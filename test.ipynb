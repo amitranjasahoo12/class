{
 "cells": [
  {
   "cell_type": "code",
   "execution_count": 6,
   "id": "3be804b6",
   "metadata": {},
   "outputs": [
    {
     "name": "stdout",
     "output_type": "stream",
     "text": [
      "this is my first class\n",
      "this is my first class\n",
      "this is my first class\n",
      "this is my first class\n"
     ]
    }
   ],
   "source": [
    "print(\"this is my first class\")\n",
    "print(\"this is my first class\")\n",
    "print(\"this is my first class\")\n",
    "print(\"this is my first class\")"
   ]
  },
  {
   "cell_type": "code",
   "execution_count": 7,
   "id": "529b6373",
   "metadata": {},
   "outputs": [],
   "source": [
    "# my name is amit"
   ]
  },
  {
   "cell_type": "code",
   "execution_count": 1,
   "id": "57729d73",
   "metadata": {},
   "outputs": [
    {
     "data": {
      "text/plain": [
       "3"
      ]
     },
     "execution_count": 1,
     "metadata": {},
     "output_type": "execute_result"
    }
   ],
   "source": [
    "1+2"
   ]
  },
  {
   "cell_type": "code",
   "execution_count": 2,
   "id": "e5f8383e",
   "metadata": {},
   "outputs": [
    {
     "data": {
      "text/plain": [
       "81"
      ]
     },
     "execution_count": 2,
     "metadata": {},
     "output_type": "execute_result"
    }
   ],
   "source": [
    "3**4"
   ]
  },
  {
   "cell_type": "code",
   "execution_count": 3,
   "id": "65745a82",
   "metadata": {},
   "outputs": [
    {
     "data": {
      "text/plain": [
       "12"
      ]
     },
     "execution_count": 3,
     "metadata": {},
     "output_type": "execute_result"
    }
   ],
   "source": [
    "3*4"
   ]
  },
  {
   "cell_type": "code",
   "execution_count": 4,
   "id": "c8469b48",
   "metadata": {},
   "outputs": [
    {
     "data": {
      "text/plain": [
       "'jksdguyghsdfkuhsadouifjlksadshgoijspo ifjouihgfoiwjhoaifghouiawhpgi'"
      ]
     },
     "execution_count": 4,
     "metadata": {},
     "output_type": "execute_result"
    }
   ],
   "source": [
    "\"jksdguyghsdfkuhsadouifjlksadshgoijspo ifjouihgfoiwjhoaifghouiawhpgi\""
   ]
  },
  {
   "cell_type": "code",
   "execution_count": null,
   "id": "7bed450d",
   "metadata": {},
   "outputs": [],
   "source": [
    "a = 1"
   ]
  },
  {
   "cell_type": "code",
   "execution_count": null,
   "id": "ee9665f9",
   "metadata": {},
   "outputs": [],
   "source": [
    "b = 4**5"
   ]
  },
  {
   "cell_type": "code",
   "execution_count": 31,
   "id": "0880851a",
   "metadata": {},
   "outputs": [
    {
     "data": {
      "text/plain": [
       "1024"
      ]
     },
     "execution_count": 31,
     "metadata": {},
     "output_type": "execute_result"
    }
   ],
   "source": [
    "b"
   ]
  },
  {
   "cell_type": "code",
   "execution_count": 35,
   "id": "2d5761c2",
   "metadata": {},
   "outputs": [],
   "source": [
    "amit = \"hfgjygjklhkgku\""
   ]
  },
  {
   "cell_type": "code",
   "execution_count": 36,
   "id": "05729426",
   "metadata": {},
   "outputs": [
    {
     "data": {
      "text/plain": [
       "'hfgjygjklhkgku'"
      ]
     },
     "execution_count": 36,
     "metadata": {},
     "output_type": "execute_result"
    }
   ],
   "source": [
    "amit"
   ]
  }
 ],
 "metadata": {
  "kernelspec": {
   "display_name": "Python 3",
   "language": "python",
   "name": "python3"
  },
  "language_info": {
   "codemirror_mode": {
    "name": "ipython",
    "version": 3
   },
   "file_extension": ".py",
   "mimetype": "text/x-python",
   "name": "python",
   "nbconvert_exporter": "python",
   "pygments_lexer": "ipython3",
   "version": "3.8.8"
  }
 },
 "nbformat": 4,
 "nbformat_minor": 5
}
