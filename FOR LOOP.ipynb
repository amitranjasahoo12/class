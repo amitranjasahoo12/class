{
 "cells": [
  {
   "cell_type": "markdown",
   "id": "213932d5",
   "metadata": {},
   "source": [
    "# FACTORIAL_FOR LOOP"
   ]
  },
  {
   "cell_type": "code",
   "execution_count": 5,
   "id": "3032459f",
   "metadata": {},
   "outputs": [
    {
     "name": "stdout",
     "output_type": "stream",
     "text": [
      "6\n",
      "The factorial of  6 is 720\n"
     ]
    }
   ],
   "source": [
    "num=int(input())\n",
    "factorial=1\n",
    "\n",
    "if num<0:\n",
    "    print(\"sorry, factorial for negative number does not exist\")\n",
    "elif num==0:\n",
    "    print(\"the factorial for number 0 is 1\")\n",
    "else:\n",
    "    for i in range(1, num+1):\n",
    "        factorial= factorial*i\n",
    "    print(\"The factorial of \", num, \"is\", factorial)    "
   ]
  },
  {
   "cell_type": "code",
   "execution_count": 3,
   "id": "2fe6817f",
   "metadata": {},
   "outputs": [
    {
     "name": "stdout",
     "output_type": "stream",
     "text": [
      "-6\n",
      "sorry, factorial for negative number does not exist\n"
     ]
    }
   ],
   "source": [
    "num=int(input())\n",
    "factorial=1\n",
    "\n",
    "if num<0:\n",
    "    print(\"sorry, factorial for negative number does not exist\")\n",
    "elif num==0:\n",
    "    print(\"the factorial for number 0 is 1\")\n",
    "else:\n",
    "    for i in range(1, num+1):\n",
    "        factorial= factorial*i\n",
    "    print(\"The factorial of \", num, \"is\", factorial)    "
   ]
  },
  {
   "cell_type": "code",
   "execution_count": null,
   "id": "cf52bab2",
   "metadata": {},
   "outputs": [],
   "source": []
  }
 ],
 "metadata": {
  "kernelspec": {
   "display_name": "Python 3",
   "language": "python",
   "name": "python3"
  },
  "language_info": {
   "codemirror_mode": {
    "name": "ipython",
    "version": 3
   },
   "file_extension": ".py",
   "mimetype": "text/x-python",
   "name": "python",
   "nbconvert_exporter": "python",
   "pygments_lexer": "ipython3",
   "version": "3.8.8"
  }
 },
 "nbformat": 4,
 "nbformat_minor": 5
}
