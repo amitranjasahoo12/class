{
 "cells": [
  {
   "cell_type": "markdown",
   "id": "882ab052",
   "metadata": {},
   "source": [
    "# _IF SATATEMENT_"
   ]
  },
  {
   "cell_type": "code",
   "execution_count": 7,
   "id": "428d81db",
   "metadata": {},
   "outputs": [
    {
     "name": "stdout",
     "output_type": "stream",
     "text": [
      "this is the body\n",
      "this is outside of the body\n"
     ]
    }
   ],
   "source": [
    "a=60\n",
    "if  a >50:\n",
    "    print(\"this is the body\")\n",
    "print(\"this is outside of the body\")"
   ]
  },
  {
   "cell_type": "code",
   "execution_count": 15,
   "id": "756e65da",
   "metadata": {},
   "outputs": [
    {
     "name": "stdout",
     "output_type": "stream",
     "text": [
      "this is outside of the body\n"
     ]
    }
   ],
   "source": [
    "a=20\n",
    "if  a >50:\n",
    "    print(\"this is the body\")\n",
    "print(\"this is outside of the body\")"
   ]
  },
  {
   "cell_type": "markdown",
   "id": "3598c4d8",
   "metadata": {},
   "source": [
    "# _IF_ELSE_STATEMENT"
   ]
  },
  {
   "cell_type": "code",
   "execution_count": 32,
   "id": "02ea3906",
   "metadata": {},
   "outputs": [
    {
     "name": "stdout",
     "output_type": "stream",
     "text": [
      "this is the if block\n",
      "i is an even number\n"
     ]
    }
   ],
   "source": [
    "i=20\n",
    "if i %2==0:\n",
    "    print(\"this is the if block\")\n",
    "    print(\"i is an even number\")\n",
    "else:\n",
    "    print(\"this is else block\")\n",
    "    print(\"i is an odd number\")"
   ]
  },
  {
   "cell_type": "code",
   "execution_count": 19,
   "id": "12f7eee3",
   "metadata": {},
   "outputs": [
    {
     "name": "stdout",
     "output_type": "stream",
     "text": [
      "this is else block\n",
      "i is an odd number\n"
     ]
    }
   ],
   "source": [
    "i=15\n",
    "if i %2==0:\n",
    "    print(\"this is the if block\")\n",
    "    print(\"i is an even number\")\n",
    "else:\n",
    "    print(\"this is else block\")\n",
    "    print(\"i is an odd number\")"
   ]
  },
  {
   "cell_type": "markdown",
   "id": "d4b85750",
   "metadata": {},
   "source": [
    "# _NESTED_IF_STATEMENT"
   ]
  },
  {
   "cell_type": "code",
   "execution_count": 29,
   "id": "10c022db",
   "metadata": {},
   "outputs": [
    {
     "name": "stdout",
     "output_type": "stream",
     "text": [
      "c is an even number less than 25\n"
     ]
    }
   ],
   "source": [
    "c=2\n",
    "if c<25:\n",
    "    if c%2==0:\n",
    "        print(\"c is an even number less than 25\")\n",
    "    else:\n",
    "        print(\"c is an odd number less than 25\")\n",
    "else:\n",
    "    print(\" c is greater than 25_nested\")"
   ]
  },
  {
   "cell_type": "code",
   "execution_count": 30,
   "id": "44c26b3b",
   "metadata": {},
   "outputs": [
    {
     "name": "stdout",
     "output_type": "stream",
     "text": [
      " c is greater than 25_nested\n"
     ]
    }
   ],
   "source": [
    "c=29\n",
    "if c<25:\n",
    "    if c%2==0:\n",
    "        print(\"c is an even number less than 25\")\n",
    "    else:\n",
    "        print(\"c is an odd number less than 25\")\n",
    "else:\n",
    "    print(\" c is greater than 25_nested\")"
   ]
  },
  {
   "cell_type": "code",
   "execution_count": 31,
   "id": "6c9391e2",
   "metadata": {},
   "outputs": [
    {
     "name": "stdout",
     "output_type": "stream",
     "text": [
      "c is an even number less than 25\n"
     ]
    }
   ],
   "source": [
    "c=22\n",
    "if c<25:\n",
    "    if c%2==0:\n",
    "        print(\"c is an even number less than 25\")\n",
    "    else:\n",
    "        print(\"c is an odd number less than 25\")\n",
    "else:\n",
    "    print(\" c is greater than 25_nested\")"
   ]
  },
  {
   "cell_type": "markdown",
   "id": "3ddcfbbd",
   "metadata": {},
   "source": [
    "# _IF_ELIEF_ELSE_STATEMENT"
   ]
  },
  {
   "cell_type": "code",
   "execution_count": 34,
   "id": "4d139ff2",
   "metadata": {},
   "outputs": [
    {
     "name": "stdout",
     "output_type": "stream",
     "text": [
      " this is the consonant\n"
     ]
    }
   ],
   "source": [
    "var=\"z\"\n",
    "if var==\"a\":\n",
    "    print(\"this is the vowel a\")\n",
    "elif var==\"e\":\n",
    "    print(\"this is the vowel e\")\n",
    "elif var==\"i\":\n",
    "    print(\"this is the vowel i\")\n",
    "elif var==\"o\":\n",
    "    print(\"thsi is the vowel o\")\n",
    "elif  var==\"u\":\n",
    "    print(\"thsi is the vowel u\")\n",
    "else:\n",
    "    print (\" this is the consonant\")\n",
    "    "
   ]
  },
  {
   "cell_type": "code",
   "execution_count": 35,
   "id": "faa5b82a",
   "metadata": {},
   "outputs": [
    {
     "name": "stdout",
     "output_type": "stream",
     "text": [
      "thsi is the vowel o\n"
     ]
    }
   ],
   "source": [
    "var=\"o\"\n",
    "if var==\"a\":\n",
    "    print(\"this is the vowel a\")\n",
    "elif var==\"e\":\n",
    "    print(\"this is the vowel e\")\n",
    "elif var==\"i\":\n",
    "    print(\"this is the vowel i\")\n",
    "elif var==\"o\":\n",
    "    print(\"thsi is the vowel o\")\n",
    "elif  var==\"u\":\n",
    "    print(\"thsi is the vowel u\")\n",
    "else:\n",
    "    print (\" this is the consonant\")"
   ]
  },
  {
   "cell_type": "markdown",
   "id": "66b53f19",
   "metadata": {},
   "source": [
    "# questions_ find the greatest three number nested"
   ]
  },
  {
   "cell_type": "code",
   "execution_count": 36,
   "id": "fc7f4e17",
   "metadata": {},
   "outputs": [
    {
     "name": "stdout",
     "output_type": "stream",
     "text": [
      "the greatest number is c\n"
     ]
    }
   ],
   "source": [
    "a=10\n",
    "b=15\n",
    "c=20\n",
    "if (a>b) and (a>c):\n",
    "    print (\" the greatest number is a\")\n",
    "elif (b>a) and (b>c):\n",
    "    print (\" the greatest number is b\")\n",
    "else:\n",
    "    print (\"the greatest number is c\")\n",
    "    "
   ]
  },
  {
   "cell_type": "code",
   "execution_count": 37,
   "id": "65edd634",
   "metadata": {},
   "outputs": [
    {
     "name": "stdout",
     "output_type": "stream",
     "text": [
      " the greatest number is b\n"
     ]
    }
   ],
   "source": [
    "a=12\n",
    "b=52\n",
    "c=5\n",
    "if (a>b) and (a>c):\n",
    "    print (\" the greatest number is a\")\n",
    "elif (b>a) and (b>c):\n",
    "    print (\" the greatest number is b\")\n",
    "else:\n",
    "    print (\"the greatest number is c\")\n",
    "    "
   ]
  },
  {
   "cell_type": "code",
   "execution_count": 39,
   "id": "e228e24d",
   "metadata": {},
   "outputs": [
    {
     "name": "stdout",
     "output_type": "stream",
     "text": [
      " the greatest number is a\n"
     ]
    }
   ],
   "source": [
    "a=101\n",
    "b=52\n",
    "c=5\n",
    "if (a>b) and (a>c):\n",
    "    print (\" the greatest number is a\")\n",
    "elif (b>a) and (b>c):\n",
    "    print (\" the greatest number is b\")\n",
    "else:\n",
    "    print (\"the greatest number is c\")\n",
    "    "
   ]
  },
  {
   "cell_type": "code",
   "execution_count": 49,
   "id": "dde5cc76",
   "metadata": {},
   "outputs": [
    {
     "name": "stdout",
     "output_type": "stream",
     "text": [
      "aa is the greatest number\n"
     ]
    }
   ],
   "source": [
    "aa=350\n",
    "bb=250\n",
    "cc=300\n",
    "if (aa>bb):\n",
    "    if (aa>cc):\n",
    "        print(\"aa is the greatest number\")\n",
    "elif (bb>cc):\n",
    "    if(bb>aa):\n",
    "        print(\"bb is the graetest number\")\n",
    "else:\n",
    "    print(\"cc is the greatest number\")\n",
    "    "
   ]
  },
  {
   "cell_type": "code",
   "execution_count": 50,
   "id": "2e12940c",
   "metadata": {},
   "outputs": [
    {
     "name": "stdout",
     "output_type": "stream",
     "text": [
      "350 is the greatest number\n"
     ]
    }
   ],
   "source": [
    "aa=350\n",
    "bb=250\n",
    "cc=300\n",
    "if (aa>bb):\n",
    "    if (aa>cc):\n",
    "        print(\"%d is the greatest number\"%aa)\n",
    "elif (bb>cc):\n",
    "    if(bb>aa):\n",
    "        print(\"%d is the greatest number\"%bb)\n",
    "else:\n",
    "    print(\"%d is the greatest number\"%cc)\n",
    "    "
   ]
  },
  {
   "cell_type": "code",
   "execution_count": 63,
   "id": "051af455",
   "metadata": {},
   "outputs": [],
   "source": [
    "a=333\n",
    "b=200\n",
    "if b>a:\n",
    "    print(\"b is greater than a\") \n",
    "    # you will get an error "
   ]
  },
  {
   "cell_type": "code",
   "execution_count": 58,
   "id": "03de4b2f",
   "metadata": {},
   "outputs": [
    {
     "name": "stdout",
     "output_type": "stream",
     "text": [
      " a is greater than b\n"
     ]
    }
   ],
   "source": [
    "a=2\n",
    "b=1\n",
    "if a > b:\n",
    "    print(\" a is greater than b\")"
   ]
  },
  {
   "cell_type": "code",
   "execution_count": null,
   "id": "e60512da",
   "metadata": {},
   "outputs": [],
   "source": []
  }
 ],
 "metadata": {
  "kernelspec": {
   "display_name": "Python 3",
   "language": "python",
   "name": "python3"
  },
  "language_info": {
   "codemirror_mode": {
    "name": "ipython",
    "version": 3
   },
   "file_extension": ".py",
   "mimetype": "text/x-python",
   "name": "python",
   "nbconvert_exporter": "python",
   "pygments_lexer": "ipython3",
   "version": "3.8.8"
  }
 },
 "nbformat": 4,
 "nbformat_minor": 5
}
