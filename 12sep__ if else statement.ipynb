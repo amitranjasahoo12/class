{
 "cells": [
  {
   "cell_type": "code",
   "execution_count": 2,
   "id": "82865600",
   "metadata": {},
   "outputs": [
    {
     "name": "stdout",
     "output_type": "stream",
     "text": [
      "this is a value of a\n"
     ]
    }
   ],
   "source": [
    "a=10\n",
    "if a: \n",
    "    print(\"this is a value of a\")"
   ]
  },
  {
   "cell_type": "code",
   "execution_count": 8,
   "id": "e814d8a1",
   "metadata": {
    "scrolled": true
   },
   "outputs": [
    {
     "ename": "SyntaxError",
     "evalue": "unexpected EOF while parsing (<ipython-input-8-5e2b568b56de>, line 2)",
     "output_type": "error",
     "traceback": [
      "\u001b[1;36m  File \u001b[1;32m\"<ipython-input-8-5e2b568b56de>\"\u001b[1;36m, line \u001b[1;32m2\u001b[0m\n\u001b[1;33m    if a < 20:\u001b[0m\n\u001b[1;37m              ^\u001b[0m\n\u001b[1;31mSyntaxError\u001b[0m\u001b[1;31m:\u001b[0m unexpected EOF while parsing\n"
     ]
    }
   ],
   "source": [
    "a = 10\n",
    "if a < 20:  "
   ]
  },
  {
   "cell_type": "code",
   "execution_count": 10,
   "id": "cc689b6e",
   "metadata": {},
   "outputs": [
    {
     "ename": "IndentationError",
     "evalue": "expected an indented block (<ipython-input-10-78524bac7045>, line 3)",
     "output_type": "error",
     "traceback": [
      "\u001b[1;36m  File \u001b[1;32m\"<ipython-input-10-78524bac7045>\"\u001b[1;36m, line \u001b[1;32m3\u001b[0m\n\u001b[1;33m    print(\"test\")\u001b[0m\n\u001b[1;37m    ^\u001b[0m\n\u001b[1;31mIndentationError\u001b[0m\u001b[1;31m:\u001b[0m expected an indented block\n"
     ]
    }
   ],
   "source": [
    "a = 10\n",
    "if a < 20:\n",
    "print(\"test\")"
   ]
  },
  {
   "cell_type": "code",
   "execution_count": 11,
   "id": "b8fd1767",
   "metadata": {},
   "outputs": [
    {
     "name": "stdout",
     "output_type": "stream",
     "text": [
      "test\n"
     ]
    }
   ],
   "source": [
    "a = 10\n",
    "if a < 20:\n",
    "    print(\"test\")"
   ]
  },
  {
   "cell_type": "code",
   "execution_count": 7,
   "id": "c38f6ca1",
   "metadata": {},
   "outputs": [
    {
     "data": {
      "text/plain": [
       "True"
      ]
     },
     "execution_count": 7,
     "metadata": {},
     "output_type": "execute_result"
    }
   ],
   "source": [
    "a < 20"
   ]
  },
  {
   "cell_type": "code",
   "execution_count": 12,
   "id": "0dc875ed",
   "metadata": {},
   "outputs": [],
   "source": [
    "a = 10\n",
    "if a < 20:\n",
    "    pass"
   ]
  },
  {
   "cell_type": "code",
   "execution_count": 16,
   "id": "31fa647e",
   "metadata": {
    "scrolled": true
   },
   "outputs": [
    {
     "name": "stdout",
     "output_type": "stream",
     "text": [
      "enter a number: 43\n",
      "false\n"
     ]
    }
   ],
   "source": [
    "a = int(input(\"enter a number: \"))\n",
    "if a <=20:\n",
    "    print(\"true\")\n",
    "else:print ('false')    "
   ]
  },
  {
   "cell_type": "code",
   "execution_count": 20,
   "id": "29c949aa",
   "metadata": {},
   "outputs": [
    {
     "name": "stdout",
     "output_type": "stream",
     "text": [
      "print this statement\n"
     ]
    }
   ],
   "source": [
    "a = 10\n",
    "if a > 20:\n",
    "     print (\"this my number\")\n",
    "else:\n",
    "    print (\"print this statement\")"
   ]
  },
  {
   "cell_type": "code",
   "execution_count": 31,
   "id": "7533dd8f",
   "metadata": {},
   "outputs": [],
   "source": [
    "a = 10\n",
    "if a > 20:\n",
    "     print (\"this my number\")"
   ]
  },
  {
   "cell_type": "code",
   "execution_count": 26,
   "id": "a3e11fa8",
   "metadata": {},
   "outputs": [
    {
     "name": "stdout",
     "output_type": "stream",
     "text": [
      "print this statement\n"
     ]
    }
   ],
   "source": [
    "a = 10\n",
    "if a > 20:\n",
    "     print (\"this my number\")\n",
    "else:\n",
    "    print (\"print this statement\")"
   ]
  },
  {
   "cell_type": "code",
   "execution_count": 21,
   "id": "f0f10e86",
   "metadata": {},
   "outputs": [
    {
     "name": "stdout",
     "output_type": "stream",
     "text": [
      "this is my alternative statement\n"
     ]
    }
   ],
   "source": [
    "a = 10\n",
    "if a > 20:\n",
    "     print (\"this my number\")\n",
    "if a ==10:\n",
    "    print(\"this is my alternative statement\")\n",
    "else:\n",
    "    print (\"print this statement\")"
   ]
  },
  {
   "cell_type": "code",
   "execution_count": 32,
   "id": "64d519dc",
   "metadata": {},
   "outputs": [
    {
     "name": "stdout",
     "output_type": "stream",
     "text": [
      "this is my alternative statement\n"
     ]
    }
   ],
   "source": [
    "a = 10\n",
    "if a > 20:\n",
    "     print (\"this my number\")\n",
    "if a ==10:\n",
    "    print(\"this is my alternative statement\")\n",
    "elif a < 20 :\n",
    "    print(\"print from elif\")\n",
    "else:\n",
    "    print (\"print this statement\")"
   ]
  },
  {
   "cell_type": "code",
   "execution_count": 39,
   "id": "30f903b4",
   "metadata": {},
   "outputs": [
    {
     "name": "stdout",
     "output_type": "stream",
     "text": [
      "print from elif\n"
     ]
    }
   ],
   "source": [
    "a = 10\n",
    "if a > 20:\n",
    "     print (\"this my number\")\n",
    "if a ==30:\n",
    "    print(\"this is my alternative statement\")\n",
    "elif a < 20 :\n",
    "    print(\"print from elif\")\n",
    "else:\n",
    "    print (\"print this statement\")"
   ]
  },
  {
   "cell_type": "code",
   "execution_count": 37,
   "id": "20a1127c",
   "metadata": {},
   "outputs": [
    {
     "name": "stdout",
     "output_type": "stream",
     "text": [
      " i am checking a type of var\n"
     ]
    }
   ],
   "source": [
    "a = 10\n",
    "if a > 20:\n",
    "     print (\"this my number\")\n",
    "if a ==30:\n",
    "    print(\"this is my alternative statement\")\n",
    "elif type (a) == int:\n",
    "    print(\" i am checking a type of var\")\n",
    "elif a < 20 :\n",
    "    print(\"print from elif\")\n",
    "else:\n",
    "    print (\"print this statement\")"
   ]
  },
  {
   "cell_type": "code",
   "execution_count": 42,
   "id": "db20de86",
   "metadata": {},
   "outputs": [
    {
     "name": "stdout",
     "output_type": "stream",
     "text": [
      " i am checking a type of var\n"
     ]
    }
   ],
   "source": [
    "a = 10\n",
    "if a ==30:\n",
    "    print(\"this is my alternative statement\")\n",
    "elif type (a) == int:\n",
    "    print(\" i am checking a type of var\")\n",
    "elif a < 20 :\n",
    "    print(\"print from elif\")\n",
    "else:\n",
    "    print (\"print this statement\")"
   ]
  },
  {
   "cell_type": "code",
   "execution_count": 44,
   "id": "2ce1f97b",
   "metadata": {},
   "outputs": [
    {
     "data": {
      "text/plain": [
       "True"
      ]
     },
     "execution_count": 44,
     "metadata": {},
     "output_type": "execute_result"
    }
   ],
   "source": [
    "type (a) == int"
   ]
  },
  {
   "cell_type": "code",
   "execution_count": 57,
   "id": "517134b6",
   "metadata": {},
   "outputs": [
    {
     "name": "stdout",
     "output_type": "stream",
     "text": [
      "50\n",
      "you can buy all the items listed in row one \n"
     ]
    }
   ],
   "source": [
    "Discount = int(input())\n",
    "if Discount == 50:\n",
    "    print(\"you can buy all the items listed in row one \")\n",
    "elif Discount == 30 :\n",
    "    print(\"you can buy all the items from row no 2 \")\n",
    "elif Discount ==20:\n",
    "    print(\" send user to row no 3\")\n",
    "elif Discount > 10:\n",
    "    print(\" send him to 4th row \")\n",
    "else :\n",
    "    print(\"there is no item available\")\n",
    "    "
   ]
  },
  {
   "cell_type": "code",
   "execution_count": 64,
   "id": "6ee45e17",
   "metadata": {},
   "outputs": [
    {
     "name": "stdout",
     "output_type": "stream",
     "text": [
      "500\n",
      " you won't be able to get any card\n"
     ]
    }
   ],
   "source": [
    "income = int(input())\n",
    "if income > 1000:\n",
    "    print(\" you can get a platinum card \")\n",
    "elif income >800:\n",
    "    print(\" you will be able top get gold card \")\n",
    "else:\n",
    "    print(\" you won't be able to get any card\")"
   ]
  },
  {
   "cell_type": "code",
   "execution_count": 63,
   "id": "7128285c",
   "metadata": {},
   "outputs": [
    {
     "name": "stdout",
     "output_type": "stream",
     "text": [
      "1500\n",
      " you can get a platinum card \n",
      " no option\n"
     ]
    }
   ],
   "source": [
    "income = int(input())\n",
    "if income > 1000:\n",
    "    print(\" you can get a platinum card \")\n",
    "    if income > 2000:\n",
    "        print(\"you will be able to get another facilities \")\n",
    "    elif income>5000:\n",
    "        print(\"you won't be able to get another things \")\n",
    "    else:\n",
    "        print(\" no option\")\n",
    "elif income >800:\n",
    "    print(\" you will be able top get gold card \")\n",
    "else:\n",
    "    print(\" you won't be able to get any card\")\n",
    "    "
   ]
  },
  {
   "cell_type": "code",
   "execution_count": 68,
   "id": "1ea1c37c",
   "metadata": {},
   "outputs": [
    {
     "name": "stdout",
     "output_type": "stream",
     "text": [
      "1500\n",
      " you can get a platinum card \n",
      " no option \n"
     ]
    }
   ],
   "source": [
    "income = int(input())\n",
    "if income > 1000:\n",
    "    print(\" you can get a platinum card \")\n",
    "    if income > 2000:\n",
    "        print(\"you will be able to get another facilities \")\n",
    "        if income > 2200 :\n",
    "            print(\"you will bw able to get discount in services \")\n",
    "        elif income >2300:\n",
    "            print(\"you will be bale to get air ticket\")\n",
    "        else:    \n",
    "            print(\" there is no option available \")\n",
    "    elif income <1500:\n",
    "        print(\"you won't able to get another things \")\n",
    "    else:\n",
    "        print(\" no option \")\n",
    "elif income >800:\n",
    "    print(\" you will be able top get gold card \")\n",
    "else:\n",
    "    print(\" you won't be able to get any card\")"
   ]
  },
  {
   "cell_type": "code",
   "execution_count": 72,
   "id": "8ad66994",
   "metadata": {},
   "outputs": [
    {
     "name": "stdout",
     "output_type": "stream",
     "text": [
      "10\n",
      "this is 10\n"
     ]
    }
   ],
   "source": [
    "val =int(input())\n",
    "if val ==10 : print (\"this is 10\")\n",
    "    "
   ]
  },
  {
   "cell_type": "code",
   "execution_count": 74,
   "id": "4eb66346",
   "metadata": {},
   "outputs": [
    {
     "data": {
      "text/plain": [
       "[2, 3, 4, 5, 6, 1, 2, 3, 3]"
      ]
     },
     "execution_count": 74,
     "metadata": {},
     "output_type": "execute_result"
    }
   ],
   "source": [
    "l=[2,3,4,5,6,1,2,3,3]\n",
    "l"
   ]
  },
  {
   "cell_type": "code",
   "execution_count": 75,
   "id": "fdda8358",
   "metadata": {},
   "outputs": [
    {
     "data": {
      "text/plain": [
       "[2, 3, 4, 5, 6, 1, 2, 3, 3]"
      ]
     },
     "execution_count": 75,
     "metadata": {},
     "output_type": "execute_result"
    }
   ],
   "source": [
    "l[::]"
   ]
  },
  {
   "cell_type": "code",
   "execution_count": 76,
   "id": "138e3a84",
   "metadata": {},
   "outputs": [
    {
     "ename": "SyntaxError",
     "evalue": "unexpected EOF while parsing (<ipython-input-76-558be609a732>, line 1)",
     "output_type": "error",
     "traceback": [
      "\u001b[1;36m  File \u001b[1;32m\"<ipython-input-76-558be609a732>\"\u001b[1;36m, line \u001b[1;32m1\u001b[0m\n\u001b[1;33m    for i in l:\u001b[0m\n\u001b[1;37m               ^\u001b[0m\n\u001b[1;31mSyntaxError\u001b[0m\u001b[1;31m:\u001b[0m unexpected EOF while parsing\n"
     ]
    }
   ],
   "source": [
    "for i in l:"
   ]
  },
  {
   "cell_type": "code",
   "execution_count": 78,
   "id": "0c440c70",
   "metadata": {},
   "outputs": [],
   "source": [
    "for i in l:\n",
    "    pass"
   ]
  },
  {
   "cell_type": "code",
   "execution_count": 79,
   "id": "07ff70f0",
   "metadata": {},
   "outputs": [
    {
     "name": "stdout",
     "output_type": "stream",
     "text": [
      "2\n",
      "3\n",
      "4\n",
      "5\n",
      "6\n",
      "1\n",
      "2\n",
      "3\n",
      "3\n"
     ]
    }
   ],
   "source": [
    "for i in l:\n",
    "    print(i)"
   ]
  },
  {
   "cell_type": "code",
   "execution_count": 10,
   "id": "b14b1d23",
   "metadata": {},
   "outputs": [
    {
     "name": "stdout",
     "output_type": "stream",
     "text": [
      "sudh\n",
      "[1, 2, 3, 4, 5]\n",
      "(2, 3, 4, 5, 6)\n",
      "56\n",
      "67\n",
      "(6+7j)\n",
      "True\n",
      "45.67\n",
      "kumar\n",
      "ukashkguhk\n"
     ]
    }
   ],
   "source": [
    "l = [\"sudh\", [1,2,3,4,5] , (2,3,4,5,6) , 56,67, 6+7j, True ,45.67 ,\"kumar\", \"ukashkguhk\"]\n",
    "for i in l :\n",
    "    print (i)"
   ]
  },
  {
   "cell_type": "code",
   "execution_count": 14,
   "id": "f40b3e9e",
   "metadata": {},
   "outputs": [
    {
     "name": "stdout",
     "output_type": "stream",
     "text": [
      "sudh\n",
      "kumar\n",
      "ukashkguhk\n"
     ]
    }
   ],
   "source": [
    "for i in l :\n",
    "    if type(i) ==str:\n",
    "        print(i)"
   ]
  },
  {
   "cell_type": "code",
   "execution_count": 5,
   "id": "1044d8df",
   "metadata": {},
   "outputs": [
    {
     "name": "stdout",
     "output_type": "stream",
     "text": [
      "56\n",
      "67\n"
     ]
    }
   ],
   "source": [
    "for i in l:\n",
    "    if type(i) == int:\n",
    "        print(i)"
   ]
  },
  {
   "cell_type": "code",
   "execution_count": 7,
   "id": "c38409d4",
   "metadata": {},
   "outputs": [
    {
     "name": "stdout",
     "output_type": "stream",
     "text": [
      "45.67\n"
     ]
    }
   ],
   "source": [
    "for i in l:\n",
    "    if type(i) == float:\n",
    "        print(i)"
   ]
  },
  {
   "cell_type": "code",
   "execution_count": 9,
   "id": "718db65e",
   "metadata": {},
   "outputs": [
    {
     "name": "stdout",
     "output_type": "stream",
     "text": [
      "(6+7j)\n"
     ]
    }
   ],
   "source": [
    "for i in l:\n",
    "    if type(i) == complex:\n",
    "        print(i)"
   ]
  },
  {
   "cell_type": "code",
   "execution_count": 16,
   "id": "364b5060",
   "metadata": {},
   "outputs": [
    {
     "name": "stdout",
     "output_type": "stream",
     "text": [
      "[5, 4, 3, 2, 1]\n"
     ]
    }
   ],
   "source": [
    "for n in l:\n",
    "    if type(n)==list:\n",
    "        print(n[::-1])"
   ]
  },
  {
   "cell_type": "code",
   "execution_count": 17,
   "id": "782faf5b",
   "metadata": {},
   "outputs": [
    {
     "name": "stdout",
     "output_type": "stream",
     "text": [
      "(6, 5, 4, 3, 2)\n"
     ]
    }
   ],
   "source": [
    "for n in l:\n",
    "    if type(n)==tuple:\n",
    "        print(n[::-1])"
   ]
  },
  {
   "cell_type": "code",
   "execution_count": 18,
   "id": "f9433303",
   "metadata": {},
   "outputs": [
    {
     "name": "stdout",
     "output_type": "stream",
     "text": [
      "s\n",
      "u\n",
      "d\n",
      "h\n",
      " \n",
      "k\n",
      "u\n",
      "m\n",
      "a\n",
      "r\n"
     ]
    }
   ],
   "source": [
    "s=\"sudh kumar\"\n",
    "\n",
    "for i in s:\n",
    "    print(i)"
   ]
  },
  {
   "cell_type": "code",
   "execution_count": 22,
   "id": "96a6d758",
   "metadata": {},
   "outputs": [
    {
     "name": "stdout",
     "output_type": "stream",
     "text": [
      "s1\n",
      "u1\n",
      "d1\n",
      "h1\n",
      " 1\n",
      "k1\n",
      "u1\n",
      "m1\n",
      "a1\n",
      "r1\n"
     ]
    }
   ],
   "source": [
    "s=\"sudh kumar\"\n",
    "\n",
    "for i in s:\n",
    "    print(i+\"1\")"
   ]
  },
  {
   "cell_type": "code",
   "execution_count": 23,
   "id": "827bc609",
   "metadata": {},
   "outputs": [
    {
     "name": "stdout",
     "output_type": "stream",
     "text": [
      "3\n",
      "4\n",
      "5\n",
      "6\n",
      "7\n"
     ]
    }
   ],
   "source": [
    "t=(3,4,5,6,7)\n",
    "for i in t:\n",
    "    print(i)"
   ]
  },
  {
   "cell_type": "code",
   "execution_count": 24,
   "id": "621c8301",
   "metadata": {},
   "outputs": [],
   "source": [
    "t=(3,4,5,6,7)"
   ]
  },
  {
   "cell_type": "code",
   "execution_count": 25,
   "id": "6d1914cc",
   "metadata": {},
   "outputs": [
    {
     "data": {
      "text/plain": [
       "tuple"
      ]
     },
     "execution_count": 25,
     "metadata": {},
     "output_type": "execute_result"
    }
   ],
   "source": [
    "type(t)"
   ]
  },
  {
   "cell_type": "code",
   "execution_count": 27,
   "id": "aa2d7368",
   "metadata": {},
   "outputs": [
    {
     "name": "stdout",
     "output_type": "stream",
     "text": [
      "(3, 4, 5, 6, 7)\n"
     ]
    }
   ],
   "source": [
    "print(t)"
   ]
  },
  {
   "cell_type": "code",
   "execution_count": 29,
   "id": "0ccfc4cf",
   "metadata": {},
   "outputs": [
    {
     "data": {
      "text/plain": [
       "(3, 4, 5, 6, 7)"
      ]
     },
     "execution_count": 29,
     "metadata": {},
     "output_type": "execute_result"
    }
   ],
   "source": [
    "t"
   ]
  },
  {
   "cell_type": "code",
   "execution_count": 30,
   "id": "eabd4895",
   "metadata": {},
   "outputs": [
    {
     "data": {
      "text/plain": [
       "[0, 1, 2, 3, 4, 5, 6, 7, 8, 9]"
      ]
     },
     "execution_count": 30,
     "metadata": {},
     "output_type": "execute_result"
    }
   ],
   "source": [
    "list(range(10))"
   ]
  },
  {
   "cell_type": "code",
   "execution_count": 32,
   "id": "30245f14",
   "metadata": {},
   "outputs": [
    {
     "name": "stdout",
     "output_type": "stream",
     "text": [
      "0\n",
      "1\n",
      "2\n",
      "3\n",
      "4\n",
      "5\n",
      "6\n",
      "7\n",
      "8\n",
      "9\n"
     ]
    }
   ],
   "source": [
    "for i in range(10):\n",
    "    print(i)"
   ]
  },
  {
   "cell_type": "code",
   "execution_count": 36,
   "id": "a2b7d983",
   "metadata": {},
   "outputs": [
    {
     "name": "stdout",
     "output_type": "stream",
     "text": [
      "[2, 3, 3]\n"
     ]
    }
   ],
   "source": [
    "l=[\"hello\",[2,3,3],\"str\",45.7,45+i,True,(2,3,4)]\n",
    "for n in l:\n",
    "    if type(n)==list:\n",
    "        print(n)"
   ]
  },
  {
   "cell_type": "code",
   "execution_count": 37,
   "id": "37c29878",
   "metadata": {},
   "outputs": [
    {
     "name": "stdout",
     "output_type": "stream",
     "text": [
      "1\n",
      "0\n",
      "3\n",
      "4\n",
      "5\n",
      "4\n"
     ]
    }
   ],
   "source": [
    "a=103454\n",
    "for i in str(a):\n",
    "    print(i)"
   ]
  },
  {
   "cell_type": "code",
   "execution_count": 45,
   "id": "c3e960d3",
   "metadata": {},
   "outputs": [
    {
     "ename": "TypeError",
     "evalue": "unsupported operand type(s) for +: 'int' and 'str'",
     "output_type": "error",
     "traceback": [
      "\u001b[1;31m---------------------------------------------------------------------------\u001b[0m",
      "\u001b[1;31mTypeError\u001b[0m                                 Traceback (most recent call last)",
      "\u001b[1;32m<ipython-input-45-8050e8f8cf23>\u001b[0m in \u001b[0;36m<module>\u001b[1;34m\u001b[0m\n\u001b[1;32m----> 1\u001b[1;33m \u001b[0mli\u001b[0m\u001b[1;33m=\u001b[0m\u001b[1;33m[\u001b[0m\u001b[1;34m\"hello\"\u001b[0m\u001b[1;33m,\u001b[0m\u001b[1;33m[\u001b[0m\u001b[1;36m2\u001b[0m\u001b[1;33m,\u001b[0m\u001b[1;36m3\u001b[0m\u001b[1;33m,\u001b[0m\u001b[1;36m3\u001b[0m\u001b[1;33m]\u001b[0m\u001b[1;33m,\u001b[0m\u001b[1;34m\"str\"\u001b[0m\u001b[1;33m,\u001b[0m\u001b[1;36m45.7\u001b[0m\u001b[1;33m,\u001b[0m\u001b[1;36m45\u001b[0m\u001b[1;33m+\u001b[0m\u001b[0mi\u001b[0m\u001b[1;33m,\u001b[0m\u001b[1;32mTrue\u001b[0m\u001b[1;33m,\u001b[0m\u001b[1;33m(\u001b[0m\u001b[1;36m2\u001b[0m\u001b[1;33m,\u001b[0m\u001b[1;36m3\u001b[0m\u001b[1;33m,\u001b[0m\u001b[1;36m4\u001b[0m\u001b[1;33m)\u001b[0m\u001b[1;33m]\u001b[0m\u001b[1;33m\u001b[0m\u001b[1;33m\u001b[0m\u001b[0m\n\u001b[0m\u001b[0;32m      2\u001b[0m \u001b[1;32mfor\u001b[0m \u001b[0mi\u001b[0m \u001b[1;32min\u001b[0m \u001b[0mli\u001b[0m\u001b[1;33m:\u001b[0m\u001b[1;33m\u001b[0m\u001b[1;33m\u001b[0m\u001b[0m\n\u001b[0;32m      3\u001b[0m     \u001b[1;32mif\u001b[0m \u001b[0mtype\u001b[0m\u001b[1;33m(\u001b[0m\u001b[0mi\u001b[0m\u001b[1;33m)\u001b[0m\u001b[1;33m==\u001b[0m\u001b[0mlist\u001b[0m \u001b[1;32mor\u001b[0m \u001b[0mtype\u001b[0m\u001b[1;33m(\u001b[0m\u001b[0mi\u001b[0m\u001b[1;33m)\u001b[0m\u001b[1;33m==\u001b[0m\u001b[0mtuple\u001b[0m\u001b[1;33m:\u001b[0m\u001b[1;33m\u001b[0m\u001b[1;33m\u001b[0m\u001b[0m\n\u001b[0;32m      4\u001b[0m         \u001b[0mprint\u001b[0m\u001b[1;33m(\u001b[0m\u001b[0mi\u001b[0m\u001b[1;33m)\u001b[0m\u001b[1;33m\u001b[0m\u001b[1;33m\u001b[0m\u001b[0m\n",
      "\u001b[1;31mTypeError\u001b[0m: unsupported operand type(s) for +: 'int' and 'str'"
     ]
    }
   ],
   "source": [
    "li=[\"hello\",[2,3,3],\"str\",45.7,45+i,True,(2,3,4)]\n",
    "for i in li:\n",
    "    if type(i)==list or type(i)==tuple:\n",
    "        print(i)"
   ]
  },
  {
   "cell_type": "code",
   "execution_count": 47,
   "id": "41e68d34",
   "metadata": {},
   "outputs": [
    {
     "name": "stdout",
     "output_type": "stream",
     "text": [
      "[1, 2, 3, 4]\n",
      "jhon\n",
      "(1, 2, 3, 4)\n",
      "smith\n"
     ]
    }
   ],
   "source": [
    "li= [[1,2,3,4],\"jhon\",(1,2,3,4),445,44.9,3+5j,True,\"smith\"]\n",
    "for i in li:\n",
    "    if type(i)==list or type(i)== tuple or type(i) ==str:\n",
    "        print(i)"
   ]
  },
  {
   "cell_type": "code",
   "execution_count": 49,
   "id": "25f55854",
   "metadata": {},
   "outputs": [
    {
     "name": "stdout",
     "output_type": "stream",
     "text": [
      "[1, 2, 3, 4]\n",
      "jhon\n",
      "(1, 2, 3, 4)\n",
      "True\n",
      "smith\n"
     ]
    }
   ],
   "source": [
    "li= [[1,2,3,4],\"jhon\",(1,2,3,4),445,44.9,3+5j,True,\"smith\"]\n",
    "for i in li:\n",
    "    if type(i)== bool or type(i)==list or type(i)== tuple or type(i) ==str :\n",
    "        print(i)"
   ]
  },
  {
   "cell_type": "code",
   "execution_count": 52,
   "id": "244896cc",
   "metadata": {},
   "outputs": [
    {
     "name": "stdout",
     "output_type": "stream",
     "text": [
      "[1, 2, 3, 4]\n"
     ]
    }
   ],
   "source": [
    "li= [[1,2,3,4],\"jhon\",(1,2,3,4),445,44.9,3+5j,True,\"smith\"]\n",
    "for i in li:\n",
    "    if type(i)==list or type(i)== tuple and type(i) ==str :\n",
    "        print(i)"
   ]
  },
  {
   "cell_type": "code",
   "execution_count": 53,
   "id": "1f931dd9",
   "metadata": {},
   "outputs": [],
   "source": [
    "li= [[1,2,3,4],\"jhon\",(1,2,3,4),445,44.9,3+5j,True,\"smith\"]\n",
    "for i in li:\n",
    "    if type(i)==list and type(i)== tuple and type(i) ==str :\n",
    "        print(i)"
   ]
  },
  {
   "cell_type": "code",
   "execution_count": 62,
   "id": "f8611cc1",
   "metadata": {},
   "outputs": [
    {
     "name": "stdout",
     "output_type": "stream",
     "text": [
      "this is not possible\n",
      "this is not possible\n",
      "this is not possible\n",
      "this is not possible\n",
      "this is not possible\n",
      "this is not possible\n",
      "this is not possible\n",
      "this is not possible\n"
     ]
    }
   ],
   "source": [
    "li= [[1,2,3,4],\"jhon\",(1,2,3,4),445,44.9,3+5j,True,\"smith\"]\n",
    "for i in li:\n",
    "    if type(i)==list and type(i)== tuple and type(i) ==str :\n",
    "         print(i)\n",
    "    else :\n",
    "            print(\"this is not possible\")"
   ]
  },
  {
   "cell_type": "code",
   "execution_count": 63,
   "id": "d677adeb",
   "metadata": {},
   "outputs": [
    {
     "name": "stdout",
     "output_type": "stream",
     "text": [
      "[1, 2, 3, 4]\n",
      "jhon\n",
      "(1, 2, 3, 4)\n",
      "this is not possible\n",
      "this is not possible\n",
      "this is not possible\n",
      "this is not possible\n",
      "smith\n"
     ]
    }
   ],
   "source": [
    "li= [[1,2,3,4],\"jhon\",(1,2,3,4),445,44.9,3+5j,True,\"smith\"]\n",
    "for i in li:\n",
    "    if type(i)==list or type(i)== tuple or type(i) ==str :\n",
    "         print(i)\n",
    "    else :\n",
    "            print(\"this is not possible\")"
   ]
  },
  {
   "cell_type": "code",
   "execution_count": 67,
   "id": "e49f962c",
   "metadata": {},
   "outputs": [
    {
     "name": "stdout",
     "output_type": "stream",
     "text": [
      "[1, 2, 3, 4]\n",
      "1\n",
      "2\n",
      "3\n",
      "4\n",
      "jhon\n",
      "(1, 2, 3, 4)\n",
      "445\n",
      "44.9\n",
      "(3+5j)\n",
      "True\n",
      "smith\n"
     ]
    }
   ],
   "source": [
    "li= [[1,2,3,4],\"jhon\",(1,2,3,4),445,44.9,3+5j,True,\"smith\"]\n",
    "\n",
    "for i in li :\n",
    "    print(i)\n",
    "    if type(i)==list:\n",
    "        for j in i:\n",
    "            print(j)\n"
   ]
  },
  {
   "cell_type": "code",
   "execution_count": 68,
   "id": "0774b2d5",
   "metadata": {},
   "outputs": [
    {
     "name": "stdout",
     "output_type": "stream",
     "text": [
      "[1, 2, 3, 4]\n",
      "jhon\n",
      "(1, 2, 3, 4)\n",
      "1\n",
      "2\n",
      "3\n",
      "4\n",
      "445\n",
      "44.9\n",
      "(3+5j)\n",
      "True\n",
      "smith\n"
     ]
    }
   ],
   "source": [
    "li= [[1,2,3,4],\"jhon\",(1,2,3,4),445,44.9,3+5j,True,\"smith\"]\n",
    "\n",
    "for i in li :\n",
    "    print(i)\n",
    "    if type(i)==tuple:\n",
    "        for j in i:\n",
    "            print(j)"
   ]
  },
  {
   "cell_type": "code",
   "execution_count": 69,
   "id": "a45293e5",
   "metadata": {},
   "outputs": [
    {
     "name": "stdout",
     "output_type": "stream",
     "text": [
      "[1, 2, 3, 4]\n",
      "1\n",
      "2\n",
      "3\n",
      "4\n",
      "jhon\n",
      "(1, 2, 3, 4)\n",
      "1\n",
      "2\n",
      "3\n",
      "4\n",
      "445\n",
      "44.9\n",
      "(3+5j)\n",
      "True\n",
      "smith\n"
     ]
    }
   ],
   "source": [
    "li= [[1,2,3,4],\"jhon\",(1,2,3,4),445,44.9,3+5j,True,\"smith\"]\n",
    "\n",
    "for i in li :\n",
    "    print(i)\n",
    "    if type(i)==list or  type(i)==tuple:\n",
    "        for j in i:\n",
    "            print(j)"
   ]
  },
  {
   "cell_type": "code",
   "execution_count": 74,
   "id": "f73f8380",
   "metadata": {},
   "outputs": [
    {
     "name": "stdout",
     "output_type": "stream",
     "text": [
      "[1, 2, 3, 4]\n",
      "1\n",
      "2\n",
      "3\n",
      "4\n",
      "(1, 2, 3, 4)\n",
      "1\n",
      "2\n",
      "3\n",
      "4\n"
     ]
    }
   ],
   "source": [
    "li= [[1,2,3,4],\"jhon\",(1,2,3,4),445,44.9,3+5j,True,\"smith\"]\n",
    "\n",
    "for i in li :\n",
    "    #print(i)\n",
    "    if type(i)==list or  type(i)==tuple:\n",
    "        print(i)\n",
    "        for j in i:\n",
    "            print(j)"
   ]
  },
  {
   "cell_type": "code",
   "execution_count": 72,
   "id": "5e997a81",
   "metadata": {},
   "outputs": [
    {
     "name": "stdout",
     "output_type": "stream",
     "text": [
      "1\n",
      "2\n",
      "3\n",
      "4\n",
      "1\n",
      "2\n",
      "3\n",
      "4\n"
     ]
    }
   ],
   "source": [
    "li= [[1,2,3,4],\"jhon\",(1,2,3,4),445,44.9,3+5j,True,\"smith\"]\n",
    "\n",
    "for i in li :\n",
    "    #print(i)\n",
    "    if type(i)==list or  type(i)==tuple:\n",
    "     \n",
    "        for j in i:\n",
    "            print(j)"
   ]
  },
  {
   "cell_type": "code",
   "execution_count": 76,
   "id": "09b68b0a",
   "metadata": {},
   "outputs": [
    {
     "name": "stdout",
     "output_type": "stream",
     "text": [
      "0\n",
      "1\n",
      "2\n",
      "3\n",
      "4\n"
     ]
    }
   ],
   "source": [
    "n=5\n",
    "for i in range(n):\n",
    "    print(i)"
   ]
  },
  {
   "cell_type": "code",
   "execution_count": 77,
   "id": "a42f9e92",
   "metadata": {},
   "outputs": [
    {
     "name": "stdout",
     "output_type": "stream",
     "text": [
      ".\n",
      ".\n",
      ".\n",
      ".\n",
      ".\n"
     ]
    }
   ],
   "source": [
    "n=5\n",
    "for i in range(n):\n",
    "    print(\".\")"
   ]
  },
  {
   "cell_type": "code",
   "execution_count": 82,
   "id": "0333c813",
   "metadata": {},
   "outputs": [
    {
     "name": "stdout",
     "output_type": "stream",
     "text": [
      ".\n",
      ".\n",
      ".\n",
      ".\n",
      ".\n",
      ".\n",
      ".\n",
      ".\n",
      ".\n",
      ".\n",
      ".\n",
      ".\n",
      ".\n",
      ".\n",
      ".\n"
     ]
    }
   ],
   "source": [
    "n=5\n",
    "for i in range(n):\n",
    "    for j in range(i+1):\n",
    "        \n",
    "        print(\".\")"
   ]
  },
  {
   "cell_type": "code",
   "execution_count": 83,
   "id": "80a57365",
   "metadata": {},
   "outputs": [
    {
     "name": "stdout",
     "output_type": "stream",
     "text": [
      "..............."
     ]
    }
   ],
   "source": [
    "n=5\n",
    "for i in range(n):\n",
    "    for j in range(i+1):\n",
    "        \n",
    "        print(\".\", end= \"\")"
   ]
  },
  {
   "cell_type": "code",
   "execution_count": 84,
   "id": "b7e18956",
   "metadata": {},
   "outputs": [
    {
     "name": "stdout",
     "output_type": "stream",
     "text": [
      ".\r\n",
      "..\r\n",
      "...\r\n",
      "....\r\n",
      ".....\r\n"
     ]
    }
   ],
   "source": [
    "n=5\n",
    "for i in range(n):\n",
    "    for j in range(i+1):\n",
    "        \n",
    "        print(\".\", end= \"\")\n",
    "    print(\"\\r\")    "
   ]
  },
  {
   "cell_type": "code",
   "execution_count": 85,
   "id": "2b66c273",
   "metadata": {},
   "outputs": [
    {
     "name": "stdout",
     "output_type": "stream",
     "text": [
      ".\n",
      "..\n",
      "...\n",
      "....\n",
      ".....\n"
     ]
    }
   ],
   "source": [
    "n=5\n",
    "for i in range(n):\n",
    "    for j in range(i+1):\n",
    "        \n",
    "        print(\".\", end= \"\")\n",
    "    print(\"\")    "
   ]
  },
  {
   "cell_type": "code",
   "execution_count": 87,
   "id": "a9cfb1af",
   "metadata": {},
   "outputs": [
    {
     "name": "stdout",
     "output_type": "stream",
     "text": [
      "10\n",
      ".\n",
      "..\n",
      "...\n",
      "....\n",
      ".....\n",
      "......\n",
      ".......\n",
      "........\n",
      ".........\n",
      "..........\n"
     ]
    }
   ],
   "source": [
    "n=int(input())\n",
    "for i in range(n):\n",
    "    for j in range(i+1):\n",
    "        \n",
    "        print(\".\", end= \"\")\n",
    "    print(\"\")   "
   ]
  },
  {
   "cell_type": "code",
   "execution_count": 92,
   "id": "19ec3167",
   "metadata": {},
   "outputs": [
    {
     "name": "stdout",
     "output_type": "stream",
     "text": [
      "10\n",
      ". \n",
      ".. \n",
      "... \n",
      ".... \n",
      "..... \n",
      "...... \n",
      "....... \n",
      "........ \n",
      "......... \n",
      ".......... \n"
     ]
    }
   ],
   "source": [
    "n=int(input())\n",
    "for i in range(n):\n",
    "    for j in range(i+1):\n",
    "\n",
    "        print(\".\", end= \"\")\n",
    "    print(\" \") "
   ]
  },
  {
   "cell_type": "code",
   "execution_count": 93,
   "id": "193764c2",
   "metadata": {},
   "outputs": [
    {
     "name": "stdout",
     "output_type": "stream",
     "text": [
      "10\n",
      ".\n",
      "\n",
      ".\n",
      ".\n",
      "\n",
      ".\n",
      ".\n",
      ".\n",
      "\n",
      ".\n",
      ".\n",
      ".\n",
      ".\n",
      "\n",
      ".\n",
      ".\n",
      ".\n",
      ".\n",
      ".\n",
      "\n",
      ".\n",
      ".\n",
      ".\n",
      ".\n",
      ".\n",
      ".\n",
      "\n",
      ".\n",
      ".\n",
      ".\n",
      ".\n",
      ".\n",
      ".\n",
      ".\n",
      "\n",
      ".\n",
      ".\n",
      ".\n",
      ".\n",
      ".\n",
      ".\n",
      ".\n",
      ".\n",
      "\n",
      ".\n",
      ".\n",
      ".\n",
      ".\n",
      ".\n",
      ".\n",
      ".\n",
      ".\n",
      ".\n",
      "\n",
      ".\n",
      ".\n",
      ".\n",
      ".\n",
      ".\n",
      ".\n",
      ".\n",
      ".\n",
      ".\n",
      ".\n",
      "\n"
     ]
    }
   ],
   "source": [
    "n=int(input())\n",
    "for i in range(n):\n",
    "    for j in range(i+1):\n",
    "        \n",
    "        print(\".\")\n",
    "    print(\"\") \n",
    "    "
   ]
  },
  {
   "cell_type": "code",
   "execution_count": 95,
   "id": "1de2759e",
   "metadata": {},
   "outputs": [
    {
     "name": "stdout",
     "output_type": "stream",
     "text": [
      "10\n",
      ".\n",
      ".\n",
      ".\n",
      ".\n",
      ".\n",
      ".\n",
      ".\n",
      ".\n",
      ".\n",
      ".\n",
      ".\n",
      ".\n",
      ".\n",
      ".\n",
      ".\n",
      ".\n",
      ".\n",
      ".\n",
      ".\n",
      ".\n",
      ".\n",
      ".\n",
      ".\n",
      ".\n",
      ".\n",
      ".\n",
      ".\n",
      ".\n",
      ".\n",
      ".\n",
      ".\n",
      ".\n",
      ".\n",
      ".\n",
      ".\n",
      ".\n",
      ".\n",
      ".\n",
      ".\n",
      ".\n",
      ".\n",
      ".\n",
      ".\n",
      ".\n",
      ".\n",
      ".\n",
      ".\n",
      ".\n",
      ".\n",
      ".\n",
      ".\n",
      ".\n",
      ".\n",
      ".\n",
      ".\n"
     ]
    }
   ],
   "source": [
    "n=int(input())\n",
    "for i in range(n):\n",
    "    for j in range(i+1):\n",
    "        \n",
    "        print(\".\")\n",
    "    "
   ]
  },
  {
   "cell_type": "code",
   "execution_count": 96,
   "id": "68e8b2c4",
   "metadata": {},
   "outputs": [
    {
     "name": "stdout",
     "output_type": "stream",
     "text": [
      "10\n",
      "._ \n",
      "._._ \n",
      "._._._ \n",
      "._._._._ \n",
      "._._._._._ \n",
      "._._._._._._ \n",
      "._._._._._._._ \n",
      "._._._._._._._._ \n",
      "._._._._._._._._._ \n",
      "._._._._._._._._._._ \n"
     ]
    }
   ],
   "source": [
    "n=int(input())\n",
    "for i in range(n):\n",
    "    for j in range(i+1):\n",
    "\n",
    "        print(\".\", end= \"_\")\n",
    "    print(\" \") "
   ]
  },
  {
   "cell_type": "code",
   "execution_count": 1,
   "id": "54e74fca",
   "metadata": {},
   "outputs": [
    {
     "name": "stdout",
     "output_type": "stream",
     "text": [
      "0\n",
      "1\n",
      "2\n",
      "3\n",
      "4\n"
     ]
    }
   ],
   "source": [
    "n=5\n",
    "for i in range(n):\n",
    "    print(i)"
   ]
  },
  {
   "cell_type": "code",
   "execution_count": 5,
   "id": "f40ffbd9",
   "metadata": {},
   "outputs": [
    {
     "name": "stdout",
     "output_type": "stream",
     "text": [
      "10\n",
      ". \n",
      ". . \n",
      ". . . \n",
      ". . . . \n",
      ". . . . . \n",
      ". . . . . . \n",
      ". . . . . . . \n",
      ". . . . . . . . \n",
      ". . . . . . . . . \n",
      ". . . . . . . . . . \n"
     ]
    }
   ],
   "source": [
    "n=int(input())\n",
    "for i in range(n):\n",
    "    for j in range(i+1):\n",
    "        \n",
    "        print(\".\", end=\" \")\n",
    "    print()"
   ]
  },
  {
   "cell_type": "code",
   "execution_count": 11,
   "id": "b80a0103",
   "metadata": {},
   "outputs": [
    {
     "name": "stdout",
     "output_type": "stream",
     "text": [
      "[1, 1, 2, 2, 3, 3] is repeated 2 times\n",
      "[1, 1, 2, 2, 3, 3] is repeated 3 times\n",
      "[1, 1, 2, 2, 3, 3] is repeated 4 times\n",
      "[1, 1, 2, 2, 3, 3] is repeated 5 times\n",
      "[1, 1, 2, 2, 3, 3] is repeated 6 times\n",
      "[2, 4, 2, 2, 5] is repeated 2 times\n",
      "[2, 4, 2, 2, 5] is repeated 3 times\n",
      "[2, 4, 2, 2, 5] is repeated 4 times\n",
      "[2, 4, 2, 2, 5] is repeated 5 times\n",
      "[2, 4, 2, 2, 5] is repeated 6 times\n",
      "[1, 5, 8, 8, 2] is repeated 2 times\n",
      "[1, 5, 8, 8, 2] is repeated 3 times\n",
      "[1, 5, 8, 8, 2] is repeated 4 times\n",
      "[1, 5, 8, 8, 2] is repeated 5 times\n",
      "[1, 5, 8, 8, 2] is repeated 6 times\n",
      "[1, 1, 2, 2, 3, 3] is repeated 2 times\n",
      "[1, 1, 2, 2, 3, 3] is repeated 3 times\n",
      "[1, 1, 2, 2, 3, 3] is repeated 4 times\n",
      "[1, 1, 2, 2, 3, 3] is repeated 5 times\n",
      "[2, 4, 2, 2, 5] is repeated 2 times\n",
      "[2, 4, 2, 2, 5] is repeated 3 times\n",
      "[2, 4, 2, 2, 5] is repeated 4 times\n",
      "[2, 4, 2, 2, 5] is repeated 5 times\n",
      "[1, 5, 8, 8, 2] is repeated 2 times\n",
      "[1, 5, 8, 8, 2] is repeated 3 times\n",
      "[1, 5, 8, 8, 2] is repeated 4 times\n",
      "[1, 5, 8, 8, 2] is repeated 5 times\n",
      "[1, 1, 2, 2, 3, 3] is repeated 2 times\n",
      "[1, 1, 2, 2, 3, 3] is repeated 3 times\n",
      "[1, 1, 2, 2, 3, 3] is repeated 4 times\n",
      "[1, 1, 2, 2, 3, 3] is repeated 5 times\n",
      "[2, 4, 2, 2, 5] is repeated 2 times\n",
      "[2, 4, 2, 2, 5] is repeated 3 times\n",
      "[2, 4, 2, 2, 5] is repeated 4 times\n",
      "[2, 4, 2, 2, 5] is repeated 5 times\n",
      "[1, 5, 8, 8, 2] is repeated 2 times\n",
      "[1, 5, 8, 8, 2] is repeated 3 times\n",
      "[1, 5, 8, 8, 2] is repeated 4 times\n",
      "[1, 5, 8, 8, 2] is repeated 5 times\n"
     ]
    }
   ],
   "source": [
    "l=[[1,1,2,2,3,3],[2,4,2,2,5],[1,5,8,8,2]]\n",
    "for i in l:\n",
    "    for x in l:\n",
    "        c=0\n",
    "        for y in i:\n",
    "            if type(x==y):\n",
    "                c=c+1\n",
    "                if (c>1):\n",
    "                    print (x, \"is repeated\", c, \"times\")\n",
    "                \n",
    "             "
   ]
  },
  {
   "cell_type": "code",
   "execution_count": 28,
   "id": "33e7e72e",
   "metadata": {},
   "outputs": [
    {
     "name": "stdout",
     "output_type": "stream",
     "text": [
      "7\n",
      "      * \n",
      "     * * \n",
      "    * * * \n",
      "   * * * * \n",
      "  * * * * * \n",
      " * * * * * * \n",
      "* * * * * * * \n",
      " * * * * * * \n",
      "  * * * * * \n",
      "   * * * * \n",
      "    * * * \n",
      "     * * \n",
      "      * \n",
      "       \n"
     ]
    }
   ],
   "source": [
    "n = int(input())\n",
    "star =1\n",
    "space =n-1\n",
    "\n",
    "for i in range (2*n+1):\n",
    "    if i<n:\n",
    "        for j in range(space):\n",
    "            print (\"\", end=\" \")\n",
    "        for j in range(star):\n",
    "                print(\"*\",end=\" \")\n",
    "        space=space-1\n",
    "        star=star+1\n",
    "        print()\n",
    "    elif i==n:\n",
    "        space= space+1\n",
    "        star= star-1\n",
    "    else:\n",
    "        space =  space + 1\n",
    "        star= star - 1\n",
    "        for j in range (space):\n",
    "            print(\"\",end=\" \")\n",
    "        for j in range (star):\n",
    "            print(\"*\", end=\" \")\n",
    "            \n",
    "        print()"
   ]
  },
  {
   "cell_type": "code",
   "execution_count": 37,
   "id": "87d02493",
   "metadata": {},
   "outputs": [
    {
     "ename": "AttributeError",
     "evalue": "'list' object has no attribute 'appened'",
     "output_type": "error",
     "traceback": [
      "\u001b[1;31m---------------------------------------------------------------------------\u001b[0m",
      "\u001b[1;31mAttributeError\u001b[0m                            Traceback (most recent call last)",
      "\u001b[1;32m<ipython-input-37-715b2a1bc243>\u001b[0m in \u001b[0;36m<module>\u001b[1;34m\u001b[0m\n\u001b[0;32m      5\u001b[0m         \u001b[1;32mfor\u001b[0m \u001b[0mj\u001b[0m \u001b[1;32min\u001b[0m \u001b[0mi\u001b[0m\u001b[1;33m:\u001b[0m\u001b[1;33m\u001b[0m\u001b[1;33m\u001b[0m\u001b[0m\n\u001b[0;32m      6\u001b[0m             \u001b[1;32mif\u001b[0m \u001b[0mj\u001b[0m \u001b[1;32mnot\u001b[0m \u001b[1;32min\u001b[0m \u001b[0mx\u001b[0m\u001b[1;33m:\u001b[0m\u001b[1;33m\u001b[0m\u001b[1;33m\u001b[0m\u001b[0m\n\u001b[1;32m----> 7\u001b[1;33m                 \u001b[0mx\u001b[0m\u001b[1;33m.\u001b[0m\u001b[0mappened\u001b[0m\u001b[1;33m(\u001b[0m\u001b[0mj\u001b[0m\u001b[1;33m)\u001b[0m\u001b[1;33m\u001b[0m\u001b[1;33m\u001b[0m\u001b[0m\n\u001b[0m\u001b[0;32m      8\u001b[0m                 \u001b[0mprint\u001b[0m\u001b[1;33m(\u001b[0m\u001b[1;34m\"the count of \"\u001b[0m\u001b[1;33m,\u001b[0m\u001b[0mj\u001b[0m\u001b[1;33m,\u001b[0m\u001b[1;34m\" is \"\u001b[0m\u001b[1;33m,\u001b[0m\u001b[0mi\u001b[0m\u001b[1;33m.\u001b[0m\u001b[0mcount\u001b[0m\u001b[1;33m(\u001b[0m\u001b[0mj\u001b[0m\u001b[1;33m)\u001b[0m\u001b[1;33m)\u001b[0m\u001b[1;33m\u001b[0m\u001b[1;33m\u001b[0m\u001b[0m\n\u001b[0;32m      9\u001b[0m             \u001b[1;32melse\u001b[0m\u001b[1;33m:\u001b[0m\u001b[1;33m\u001b[0m\u001b[1;33m\u001b[0m\u001b[0m\n",
      "\u001b[1;31mAttributeError\u001b[0m: 'list' object has no attribute 'appened'"
     ]
    }
   ],
   "source": [
    "l = [[1,1,2,2,3,3],[2,4,2,2,5],[1,5,8,8,2]]\n",
    "x = []\n",
    "for i in l:\n",
    "    if type(i)== list:\n",
    "        for j in i:\n",
    "            if j not in x:\n",
    "                x.appened(j)\n",
    "                print(\"the count of \",j,\" is \",i.count(j))\n",
    "            else:\n",
    "                x.appened(j)"
   ]
  },
  {
   "cell_type": "code",
   "execution_count": null,
   "id": "e4c94bde",
   "metadata": {},
   "outputs": [],
   "source": []
  }
 ],
 "metadata": {
  "kernelspec": {
   "display_name": "Python 3",
   "language": "python",
   "name": "python3"
  },
  "language_info": {
   "codemirror_mode": {
    "name": "ipython",
    "version": 3
   },
   "file_extension": ".py",
   "mimetype": "text/x-python",
   "name": "python",
   "nbconvert_exporter": "python",
   "pygments_lexer": "ipython3",
   "version": "3.8.8"
  }
 },
 "nbformat": 4,
 "nbformat_minor": 5
}
