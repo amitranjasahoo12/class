{
 "cells": [
  {
   "cell_type": "code",
   "execution_count": 3,
   "id": "133eb356",
   "metadata": {},
   "outputs": [],
   "source": [
    "amit = \"gjhsdgdkuhsali;gio\""
   ]
  },
  {
   "cell_type": "code",
   "execution_count": 4,
   "id": "6461acd3",
   "metadata": {},
   "outputs": [
    {
     "data": {
      "text/plain": [
       "'gjhsdgdkuhsali;gio'"
      ]
     },
     "execution_count": 4,
     "metadata": {},
     "output_type": "execute_result"
    }
   ],
   "source": [
    "amit"
   ]
  },
  {
   "cell_type": "code",
   "execution_count": null,
   "id": "3dd8a93f",
   "metadata": {},
   "outputs": [],
   "source": [
    "a = 1"
   ]
  },
  {
   "cell_type": "code",
   "execution_count": 5,
   "id": "17e42835",
   "metadata": {},
   "outputs": [],
   "source": [
    "b = 4**5"
   ]
  },
  {
   "cell_type": "code",
   "execution_count": 6,
   "id": "b41fe13b",
   "metadata": {},
   "outputs": [
    {
     "data": {
      "text/plain": [
       "1024"
      ]
     },
     "execution_count": 6,
     "metadata": {},
     "output_type": "execute_result"
    }
   ],
   "source": [
    "b"
   ]
  },
  {
   "cell_type": "code",
   "execution_count": 7,
   "id": "e0d63e43",
   "metadata": {},
   "outputs": [],
   "source": [
    "a=10"
   ]
  },
  {
   "cell_type": "code",
   "execution_count": 8,
   "id": "af07e376",
   "metadata": {},
   "outputs": [
    {
     "data": {
      "text/plain": [
       "10"
      ]
     },
     "execution_count": 8,
     "metadata": {},
     "output_type": "execute_result"
    }
   ],
   "source": [
    "a"
   ]
  },
  {
   "cell_type": "code",
   "execution_count": 13,
   "id": "fc13196b",
   "metadata": {},
   "outputs": [],
   "source": [
    "b=141"
   ]
  },
  {
   "cell_type": "code",
   "execution_count": 10,
   "id": "de458256",
   "metadata": {},
   "outputs": [
    {
     "data": {
      "text/plain": [
       "141"
      ]
     },
     "execution_count": 10,
     "metadata": {},
     "output_type": "execute_result"
    }
   ],
   "source": [
    "b"
   ]
  },
  {
   "cell_type": "code",
   "execution_count": 14,
   "id": "9aabf2ad",
   "metadata": {},
   "outputs": [
    {
     "data": {
      "text/plain": [
       "int"
      ]
     },
     "execution_count": 14,
     "metadata": {},
     "output_type": "execute_result"
    }
   ],
   "source": [
    "type(a)"
   ]
  },
  {
   "cell_type": "code",
   "execution_count": 15,
   "id": "cc18adfe",
   "metadata": {},
   "outputs": [
    {
     "data": {
      "text/plain": [
       "str"
      ]
     },
     "execution_count": 15,
     "metadata": {},
     "output_type": "execute_result"
    }
   ],
   "source": [
    "type(amit)"
   ]
  },
  {
   "cell_type": "code",
   "execution_count": 16,
   "id": "2aa1642d",
   "metadata": {},
   "outputs": [],
   "source": [
    "amit1=45.87"
   ]
  },
  {
   "cell_type": "code",
   "execution_count": 17,
   "id": "514fe75f",
   "metadata": {},
   "outputs": [
    {
     "data": {
      "text/plain": [
       "float"
      ]
     },
     "execution_count": 17,
     "metadata": {},
     "output_type": "execute_result"
    }
   ],
   "source": [
    "type(amit1)"
   ]
  },
  {
   "cell_type": "code",
   "execution_count": 18,
   "id": "fae1eb85",
   "metadata": {},
   "outputs": [],
   "source": [
    "a1=25+7j"
   ]
  },
  {
   "cell_type": "code",
   "execution_count": 20,
   "id": "20a636e4",
   "metadata": {},
   "outputs": [
    {
     "data": {
      "text/plain": [
       "complex"
      ]
     },
     "execution_count": 20,
     "metadata": {},
     "output_type": "execute_result"
    }
   ],
   "source": [
    "type(a1)"
   ]
  },
  {
   "cell_type": "code",
   "execution_count": 23,
   "id": "632762cf",
   "metadata": {},
   "outputs": [],
   "source": [
    "def test():\n",
    "    \"\"\"This is my function to show docstring\"\"\"\n",
    "    \n",
    "    return true"
   ]
  },
  {
   "cell_type": "code",
   "execution_count": 24,
   "id": "aed9f092",
   "metadata": {},
   "outputs": [
    {
     "ename": "NameError",
     "evalue": "name 'true' is not defined",
     "output_type": "error",
     "traceback": [
      "\u001b[1;31m---------------------------------------------------------------------------\u001b[0m",
      "\u001b[1;31mNameError\u001b[0m                                 Traceback (most recent call last)",
      "\u001b[1;32m<ipython-input-24-fbd55f77ab7c>\u001b[0m in \u001b[0;36m<module>\u001b[1;34m\u001b[0m\n\u001b[1;32m----> 1\u001b[1;33m \u001b[0mtest\u001b[0m\u001b[1;33m(\u001b[0m\u001b[1;33m)\u001b[0m\u001b[1;33m\u001b[0m\u001b[1;33m\u001b[0m\u001b[0m\n\u001b[0m",
      "\u001b[1;32m<ipython-input-23-97f41c7d2b80>\u001b[0m in \u001b[0;36mtest\u001b[1;34m()\u001b[0m\n\u001b[0;32m      2\u001b[0m     \u001b[1;34m\"\"\"This is my function to show docstring\"\"\"\u001b[0m\u001b[1;33m\u001b[0m\u001b[1;33m\u001b[0m\u001b[0m\n\u001b[0;32m      3\u001b[0m \u001b[1;33m\u001b[0m\u001b[0m\n\u001b[1;32m----> 4\u001b[1;33m     \u001b[1;32mreturn\u001b[0m \u001b[0mtrue\u001b[0m\u001b[1;33m\u001b[0m\u001b[1;33m\u001b[0m\u001b[0m\n\u001b[0m",
      "\u001b[1;31mNameError\u001b[0m: name 'true' is not defined"
     ]
    }
   ],
   "source": [
    "test()"
   ]
  },
  {
   "cell_type": "code",
   "execution_count": 28,
   "id": "cfa6ef30",
   "metadata": {},
   "outputs": [],
   "source": [
    "a=4**8"
   ]
  },
  {
   "cell_type": "code",
   "execution_count": 29,
   "id": "493562d2",
   "metadata": {},
   "outputs": [
    {
     "data": {
      "text/plain": [
       "65536"
      ]
     },
     "execution_count": 29,
     "metadata": {},
     "output_type": "execute_result"
    }
   ],
   "source": [
    "a"
   ]
  },
  {
   "cell_type": "code",
   "execution_count": 1,
   "id": "7fec60b9",
   "metadata": {},
   "outputs": [
    {
     "name": "stdout",
     "output_type": "stream",
     "text": [
      "ahjkhklhl\n"
     ]
    }
   ],
   "source": [
    "print(\"ahjkhklhl\")"
   ]
  },
  {
   "cell_type": "code",
   "execution_count": 2,
   "id": "fa7e4409",
   "metadata": {},
   "outputs": [
    {
     "name": "stdout",
     "output_type": "stream",
     "text": [
      "gkjszghkuhlk\n"
     ]
    }
   ],
   "source": [
    "print(\"gkjszghkuhlk\")"
   ]
  },
  {
   "cell_type": "code",
   "execution_count": 3,
   "id": "5a1b687f",
   "metadata": {},
   "outputs": [],
   "source": [
    "A=1"
   ]
  },
  {
   "cell_type": "code",
   "execution_count": 4,
   "id": "79cc8e02",
   "metadata": {},
   "outputs": [],
   "source": [
    "b=4**5"
   ]
  },
  {
   "cell_type": "code",
   "execution_count": 5,
   "id": "21dade58",
   "metadata": {},
   "outputs": [
    {
     "data": {
      "text/plain": [
       "1024"
      ]
     },
     "execution_count": 5,
     "metadata": {},
     "output_type": "execute_result"
    }
   ],
   "source": [
    "b"
   ]
  },
  {
   "cell_type": "code",
   "execution_count": 6,
   "id": "298b5b0e",
   "metadata": {},
   "outputs": [
    {
     "data": {
      "text/plain": [
       "int"
      ]
     },
     "execution_count": 6,
     "metadata": {},
     "output_type": "execute_result"
    }
   ],
   "source": [
    "type(b)"
   ]
  },
  {
   "cell_type": "code",
   "execution_count": null,
   "id": "4272590d",
   "metadata": {},
   "outputs": [],
   "source": []
  }
 ],
 "metadata": {
  "kernelspec": {
   "display_name": "Python 3",
   "language": "python",
   "name": "python3"
  },
  "language_info": {
   "codemirror_mode": {
    "name": "ipython",
    "version": 3
   },
   "file_extension": ".py",
   "mimetype": "text/x-python",
   "name": "python",
   "nbconvert_exporter": "python",
   "pygments_lexer": "ipython3",
   "version": "3.8.8"
  }
 },
 "nbformat": 4,
 "nbformat_minor": 5
}
