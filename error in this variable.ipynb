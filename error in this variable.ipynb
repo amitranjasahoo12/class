{
 "cells": [
  {
   "cell_type": "code",
   "execution_count": 19,
   "id": "ac7fd983",
   "metadata": {},
   "outputs": [],
   "source": [
    "amit = \"is a good boy\""
   ]
  },
  {
   "cell_type": "code",
   "execution_count": 20,
   "id": "49f1e2b4",
   "metadata": {},
   "outputs": [
    {
     "data": {
      "text/plain": [
       "'is a good boy'"
      ]
     },
     "execution_count": 20,
     "metadata": {},
     "output_type": "execute_result"
    }
   ],
   "source": [
    "amit"
   ]
  },
  {
   "cell_type": "code",
   "execution_count": 21,
   "id": "de5fb54f",
   "metadata": {},
   "outputs": [],
   "source": [
    "amit=\"gyguygfuguifdguisdgug\""
   ]
  },
  {
   "cell_type": "code",
   "execution_count": 22,
   "id": "25bac1ab",
   "metadata": {},
   "outputs": [
    {
     "data": {
      "text/plain": [
       "'gyguygfuguifdguisdgug'"
      ]
     },
     "execution_count": 22,
     "metadata": {},
     "output_type": "execute_result"
    }
   ],
   "source": [
    "amit"
   ]
  },
  {
   "cell_type": "code",
   "execution_count": 28,
   "id": "64968a91",
   "metadata": {},
   "outputs": [],
   "source": [
    "amitr=\"dgkusahsihsauh\""
   ]
  },
  {
   "cell_type": "code",
   "execution_count": 29,
   "id": "192bfbfe",
   "metadata": {},
   "outputs": [
    {
     "data": {
      "text/plain": [
       "'dgkusahsihsauh'"
      ]
     },
     "execution_count": 29,
     "metadata": {},
     "output_type": "execute_result"
    }
   ],
   "source": [
    "amitr"
   ]
  },
  {
   "cell_type": "code",
   "execution_count": 30,
   "id": "89eb2acd",
   "metadata": {},
   "outputs": [
    {
     "data": {
      "text/plain": [
       "11"
      ]
     },
     "execution_count": 30,
     "metadata": {},
     "output_type": "execute_result"
    }
   ],
   "source": [
    "a=11\n",
    "a"
   ]
  },
  {
   "cell_type": "code",
   "execution_count": 35,
   "id": "f0bf72b4",
   "metadata": {},
   "outputs": [
    {
     "data": {
      "text/plain": [
       "32"
      ]
     },
     "execution_count": 35,
     "metadata": {},
     "output_type": "execute_result"
    }
   ],
   "source": [
    "a=4*8\n",
    "a"
   ]
  },
  {
   "cell_type": "code",
   "execution_count": 33,
   "id": "b3b05e0e",
   "metadata": {},
   "outputs": [
    {
     "data": {
      "text/plain": [
       "32"
      ]
     },
     "execution_count": 33,
     "metadata": {},
     "output_type": "execute_result"
    }
   ],
   "source": [
    "a"
   ]
  }
 ],
 "metadata": {
  "kernelspec": {
   "display_name": "Python 3",
   "language": "python",
   "name": "python3"
  },
  "language_info": {
   "codemirror_mode": {
    "name": "ipython",
    "version": 3
   },
   "file_extension": ".py",
   "mimetype": "text/x-python",
   "name": "python",
   "nbconvert_exporter": "python",
   "pygments_lexer": "ipython3",
   "version": "3.8.8"
  }
 },
 "nbformat": 4,
 "nbformat_minor": 5
}
